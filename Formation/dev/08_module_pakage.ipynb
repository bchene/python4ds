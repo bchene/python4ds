{
 "cells": [
  {
   "cell_type": "markdown",
   "id": "17c5cd2f",
   "metadata": {},
   "source": [
    "#### modules et pakage\n",
    "[Python - Modules](https://docs.python.org/fr/3.10/py-modindex.html)"
   ]
  },
  {
   "cell_type": "code",
   "execution_count": 11,
   "id": "b061329f",
   "metadata": {},
   "outputs": [
    {
     "data": {
      "text/plain": [
       "'1 1 2 3 5 8 13 21 34 55 89 144 233 377 610 987 1597 2584 4181 6765 10946'"
      ]
     },
     "execution_count": 11,
     "metadata": {},
     "output_type": "execute_result"
    }
   ],
   "source": [
    "import module08 \n",
    "\n",
    "module08.fiboStr(20)"
   ]
  },
  {
   "cell_type": "code",
   "execution_count": 12,
   "id": "e9fe6567",
   "metadata": {},
   "outputs": [
    {
     "data": {
      "text/plain": [
       "'1 1 2 3 5 8 13 21 34 55 89 144 233 377 610 987 1597 2584 4181 6765 10946'"
      ]
     },
     "execution_count": 12,
     "metadata": {},
     "output_type": "execute_result"
    }
   ],
   "source": [
    "import module08 as m\n",
    "\n",
    "m.fiboStr(20)"
   ]
  },
  {
   "cell_type": "code",
   "execution_count": 13,
   "id": "c7aedf8a",
   "metadata": {},
   "outputs": [
    {
     "name": "stdout",
     "output_type": "stream",
     "text": [
      "{'positif': [0, 1, 2, 3, 4, 0, 1, 2, 3, 4, 0, 1, 2, 3, 4, 0, 1, 2, 3, 4], 'negatif': [-5, -4, -3, -2, -1, -5, -4, -3, -2, -1, -5, -4, -3, -2, -1, -5, -4, -3, -2, -1]}\n"
     ]
    }
   ],
   "source": [
    "from module08 import classeur_1, classeurAdd\n",
    "\n",
    "for i in range(-5, 5) :\n",
    "\tclasseurAdd(classeur_1, i)\n",
    "print(classeur_1)"
   ]
  },
  {
   "cell_type": "code",
   "execution_count": 14,
   "id": "4fa8391c",
   "metadata": {},
   "outputs": [
    {
     "data": {
      "text/plain": [
       "-1.0"
      ]
     },
     "execution_count": 14,
     "metadata": {},
     "output_type": "execute_result"
    }
   ],
   "source": [
    "import math\n",
    "math.cos(math.pi)"
   ]
  },
  {
   "cell_type": "code",
   "execution_count": 16,
   "id": "6314b556",
   "metadata": {},
   "outputs": [
    {
     "name": "stdout",
     "output_type": "stream",
     "text": [
      "2\n",
      "2.1052631578947367\n"
     ]
    }
   ],
   "source": [
    "import statistics\n",
    "l = [0, 1, 2, 3, 4, 0, 1, 2, 3, 4, 0, 1, 2, 3, 4, 0, 1, 2, 3, 4]\n",
    "print(statistics.mean(l))\n",
    "print(statistics.variance(l))"
   ]
  },
  {
   "cell_type": "code",
   "execution_count": 130,
   "id": "42b864a8",
   "metadata": {},
   "outputs": [
    {
     "name": "stdout",
     "output_type": "stream",
     "text": [
      "1\n",
      "0.806846018820692\n",
      "8\n",
      "93\n",
      "[25, 56, 26, 75]\n",
      "[0, 1, 4, 0, 3, 0, 4, 2, 1, 4, 3, 2, 3, 4, 1, 1, 3, 2, 2, 0]\n"
     ]
    }
   ],
   "source": [
    "import random\n",
    "#random.seed(0)\n",
    "print(random.choice(l))\n",
    "print(random.random())\n",
    "print(random.randint(5,10))\n",
    "print(random.randrange(100))\n",
    "print(random.sample(range(100),random.randint(3,8)))\n",
    "\n",
    "random.shuffle(l)\n",
    "print(l)"
   ]
  },
  {
   "cell_type": "code",
   "execution_count": 133,
   "id": "608ff399",
   "metadata": {},
   "outputs": [
    {
     "name": "stdout",
     "output_type": "stream",
     "text": [
      "/Users/benjamin/Documents/Documents - iMac 2018/42/42_ALL/POST_CC/Python for datascience/Formation\n"
     ]
    }
   ],
   "source": [
    "import os\n",
    "print(os.getcwd())"
   ]
  },
  {
   "cell_type": "code",
   "execution_count": 138,
   "id": "9dc08d01",
   "metadata": {},
   "outputs": [
    {
     "name": "stdout",
     "output_type": "stream",
     "text": [
      "FILE : fichier1.txt\n",
      "Bonjour\n",
      "_________________\n",
      "FILE : fichier2.txt\n",
      "yo yoyo yoyo yoyo yoyo yoyo yoyo yoyo yoyo yoyo yoyo yo\n",
      "_________________\n"
     ]
    }
   ],
   "source": [
    "import glob\n",
    "file_name = glob.glob(\"*.txt\")\n",
    "for file in file_name :\n",
    "\tprint(\"FILE : \"+file)\n",
    "\twith open(file, 'r') as f :\n",
    "\t\tprint(f.read())\n",
    "\tprint('_________________')\n",
    " "
   ]
  },
  {
   "cell_type": "code",
   "execution_count": 140,
   "id": "0e190e70",
   "metadata": {},
   "outputs": [
    {
     "name": "stdout",
     "output_type": "stream",
     "text": [
      "{'fichier1.txt': ['Bonjour'], 'fichier2.txt': ['yo yoyo yoyo yoyo yoyo yoyo yoyo yoyo yoyo yoyo yoyo yoyo yo', 'yo yo', 'yo yo', 'yo yo', 'yo yo', 'yo yo', 'yo yo', 'yo yo', 'yo yo', 'yo yo']}\n"
     ]
    }
   ],
   "source": [
    "filenames = glob.glob(\"*.txt\")\n",
    "\n",
    "d = {}\n",
    "for file in filenames :\n",
    "    with open(file, 'r') as f:\n",
    "        d[file] = f.read().splitlines()\n",
    "print(d)"
   ]
  }
 ],
 "metadata": {
  "kernelspec": {
   "display_name": "python42",
   "language": "python",
   "name": "python3"
  },
  "language_info": {
   "codemirror_mode": {
    "name": "ipython",
    "version": 3
   },
   "file_extension": ".py",
   "mimetype": "text/x-python",
   "name": "python",
   "nbconvert_exporter": "python",
   "pygments_lexer": "ipython3",
   "version": "3.10.18"
  }
 },
 "nbformat": 4,
 "nbformat_minor": 5
}
