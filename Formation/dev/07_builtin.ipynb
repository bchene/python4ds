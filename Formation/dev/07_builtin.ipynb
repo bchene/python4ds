{
 "cells": [
  {
   "cell_type": "markdown",
   "id": "17c5cd2f",
   "metadata": {},
   "source": [
    "#### Fonctions natives\n",
    "https://docs.python.org/fr/3.10/library/functions.html"
   ]
  },
  {
   "cell_type": "code",
   "execution_count": 3,
   "id": "b061329f",
   "metadata": {},
   "outputs": [
    {
     "name": "stdout",
     "output_type": "stream",
     "text": [
      "3\n"
     ]
    }
   ],
   "source": [
    "print( abs(-3) )"
   ]
  },
  {
   "cell_type": "code",
   "execution_count": 4,
   "id": "554f5c99",
   "metadata": {},
   "outputs": [
    {
     "name": "stdout",
     "output_type": "stream",
     "text": [
      "3.33\n"
     ]
    }
   ],
   "source": [
    "print ( float(3.33) )"
   ]
  },
  {
   "cell_type": "code",
   "execution_count": 5,
   "id": "2857bfa7",
   "metadata": {},
   "outputs": [
    {
     "name": "stdout",
     "output_type": "stream",
     "text": [
      "[-10, -9, -8, -7, -6, -5, -4, -3, -2, -1, 0, 1, 2, 3, 4]\n",
      "4\n",
      "-10\n",
      "15\n",
      "-45\n",
      "False\n",
      "True\n"
     ]
    }
   ],
   "source": [
    "list_1 = [ i-10 for i in range(20) if i<15]\n",
    "print(list_1)\n",
    "\n",
    "print ( max(list_1))\n",
    "print ( min(list_1))\n",
    "\n",
    "print ( len(list_1))\n",
    "\n",
    "print ( sum(list_1))\n",
    "\n",
    "print ( all(list_1))\n",
    "print ( any(list_1))"
   ]
  },
  {
   "cell_type": "code",
   "execution_count": 6,
   "id": "96b9f160",
   "metadata": {},
   "outputs": [
    {
     "name": "stdout",
     "output_type": "stream",
     "text": [
      "<class 'int'>\n",
      "<class 'str'>\n",
      "20\n",
      "<class 'int'>\n",
      "10\n",
      "<class 'int'>\n",
      "10.0\n",
      "<class 'float'>\n"
     ]
    }
   ],
   "source": [
    "x = 10\n",
    "print(type(x))\n",
    "x = str(x)\n",
    "print(type(x))\n",
    "\n",
    "y = \"20\"\n",
    "y = int(y)\n",
    "print(y)\n",
    "print(type(y))\n",
    "\n",
    "\n",
    "z = 10\n",
    "print(z)\n",
    "print(type(z))\n",
    "z = float(z)\n",
    "print(z)\n",
    "print(type(z))"
   ]
  },
  {
   "cell_type": "code",
   "execution_count": 7,
   "id": "e0dfaba9",
   "metadata": {},
   "outputs": [
    {
     "name": "stdout",
     "output_type": "stream",
     "text": [
      "(1, 2, 3, 4)\n",
      "[1, 2, 3, 4]\n",
      "['bananes', 'pommes', 'pores']\n",
      "(10, 100, 10000)\n"
     ]
    }
   ],
   "source": [
    "list_1 = [1,2,3,4]\n",
    "tuple_1 = tuple(list_1)\n",
    "print(tuple_1)\n",
    "print(list(tuple_1))\n",
    "\n",
    "dico = {\n",
    "\t\"bananes\":10,\n",
    "\t\"pommes\":100,\n",
    "\t\"pores\":10000\n",
    "}\n",
    "print(list(dico.keys()))\n",
    "print(tuple(dico.values()))"
   ]
  },
  {
   "cell_type": "code",
   "execution_count": 8,
   "id": "8e4cdd07",
   "metadata": {},
   "outputs": [
    {
     "name": "stdout",
     "output_type": "stream",
     "text": [
      "0b1111\n",
      "b'\\x00\\x00\\x00\\x00\\x00\\x00\\x00\\x00\\x00\\x00\\x00\\x00\\x00\\x00\\x00'\n",
      "0xf\n",
      "0o17\n"
     ]
    }
   ],
   "source": [
    "print(bin(15))\n",
    "print(bytes(15))\n",
    "print(hex(15))\n",
    "print(oct(15))"
   ]
  },
  {
   "cell_type": "code",
   "execution_count": 9,
   "id": "fb754a2c",
   "metadata": {},
   "outputs": [
    {
     "name": "stdout",
     "output_type": "stream",
     "text": [
      "200\n"
     ]
    }
   ],
   "source": [
    "nb = int(input(\"Entrez un nombre\"))\n",
    "print(nb*10)"
   ]
  },
  {
   "cell_type": "code",
   "execution_count": 10,
   "id": "6dcef477",
   "metadata": {},
   "outputs": [
    {
     "name": "stdout",
     "output_type": "stream",
     "text": [
      "La temperature est de 25 degC a Paris\n",
      "La temperature est de 18 degC a Londres\n",
      "{'ville_1': 'Paris', 'ville_2': 'Londres'}\n",
      "Paris\n",
      "Londres\n"
     ]
    }
   ],
   "source": [
    "x = 25\n",
    "ville = ('Paris','Londres')\n",
    "\n",
    "message = \"La temperature est de {} degC a {}\".format(x, ville[0])\n",
    "print(message)\n",
    "message = f\"La temperature est de {x-7} degC a {ville[1]}\"\n",
    "print(message)\n",
    "\n",
    "dico_ville = { 'ville_'+str(i+1):ville[i] for i in range(2)}\n",
    "print(dico_ville)\n",
    "for i in range(1, 3) :\n",
    "    print(dico_ville[\"ville_{}\".format(i)])\n"
   ]
  },
  {
   "cell_type": "markdown",
   "id": "dc5de344",
   "metadata": {},
   "source": [
    "#### open write read close with open "
   ]
  },
  {
   "cell_type": "code",
   "execution_count": 10,
   "id": "fd085d7f",
   "metadata": {},
   "outputs": [
    {
     "name": "stdout",
     "output_type": "stream",
     "text": [
      "Bonjour\n",
      "yo yoyo yoyo yoyo yoyo yoyo yoyo yoyo yoyo yoyo yoyo yoyo yo\n",
      "yo yo\n",
      "yo yo\n",
      "yo yo\n",
      "yo yo\n",
      "yo yo\n",
      "yo yo\n",
      "yo yo\n",
      "yo yo\n",
      "yo yo\n",
      "\n"
     ]
    }
   ],
   "source": [
    "file = open('fichier1.txt', 'w')\n",
    "file.write(\"Bonjour\")\n",
    "file.close()\n",
    "\n",
    "file = open('fichier1.txt', 'r')\n",
    "print(file.read())\n",
    "file.close()\n",
    "\n",
    "with open('fichier2.txt', 'a+') as f :\n",
    "\tf.write('yo yo\\n')\n",
    "\tf.seek(0)\n",
    "\tprint(f.read())\n"
   ]
  }
 ],
 "metadata": {
  "kernelspec": {
   "display_name": "python42",
   "language": "python",
   "name": "python3"
  },
  "language_info": {
   "codemirror_mode": {
    "name": "ipython",
    "version": 3
   },
   "file_extension": ".py",
   "mimetype": "text/x-python",
   "name": "python",
   "nbconvert_exporter": "python",
   "pygments_lexer": "ipython3",
   "version": "3.10.18"
  }
 },
 "nbformat": 4,
 "nbformat_minor": 5
}
