{
 "cells": [
  {
   "cell_type": "code",
   "execution_count": null,
   "id": "b061329f",
   "metadata": {},
   "outputs": [],
   "source": [
    "# CONDITIONS\n",
    "x = 1\n",
    "y = -1\n",
    "if (x * y)>0 :\n",
    "\tprint(\"meme signes\")\n",
    "elif (x == 0) | (y == 0) :\n",
    "\tprint(\"il y a un zero\")\n",
    "else :\n",
    "\tprint(\"signe differents\")"
   ]
  },
  {
   "cell_type": "code",
   "execution_count": null,
   "id": "7ad60b69",
   "metadata": {},
   "outputs": [],
   "source": [
    "# BOUCLES FOR\n",
    "\n",
    "for i in range(10, -11, -5):\n",
    "\tprint(i)"
   ]
  },
  {
   "cell_type": "code",
   "execution_count": null,
   "id": "269fd712",
   "metadata": {},
   "outputs": [],
   "source": [
    "# BOUCLE WHILE\n",
    "x = 0\n",
    "while x < 10 :\n",
    "\tprint(x)\n",
    "\tx += 3"
   ]
  },
  {
   "cell_type": "code",
   "execution_count": 65,
   "id": "45f74af0",
   "metadata": {},
   "outputs": [
    {
     "name": "stdout",
     "output_type": "stream",
     "text": [
      "1 1 2 3 5 8 13 21 34 55 89 144 233 fiboStr\n"
     ]
    }
   ],
   "source": [
    "# FIBONACCI\n",
    "def fiboStr(n):\n",
    "\tret = \"1\"\n",
    "\tmin2 = 0\n",
    "\tmin1 = 1\n",
    "\twhile(n > 0) :\n",
    "\t\tcur = min1 + min2\n",
    "\t\tret += f\" {cur}\"\n",
    "\t\tmin2 = min1\n",
    "\t\tmin1 = cur\n",
    "\t\tn -= 1\n",
    "\treturn ret\n",
    "\t\n",
    "\n",
    "print(fiboStr(12), end=\" \")\n",
    "print(\"fiboStr\")"
   ]
  }
 ],
 "metadata": {
  "kernelspec": {
   "display_name": "formaPy",
   "language": "python",
   "name": "python3"
  },
  "language_info": {
   "codemirror_mode": {
    "name": "ipython",
    "version": 3
   },
   "file_extension": ".py",
   "mimetype": "text/x-python",
   "name": "python",
   "nbconvert_exporter": "python",
   "pygments_lexer": "ipython3",
   "version": "3.13.5"
  }
 },
 "nbformat": 4,
 "nbformat_minor": 5
}
