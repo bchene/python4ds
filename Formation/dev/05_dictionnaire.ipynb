{
 "cells": [
  {
   "cell_type": "code",
   "execution_count": null,
   "id": "b061329f",
   "metadata": {},
   "outputs": [],
   "source": [
    "# DICTIONNAIRE\n",
    "import numpy as np\n",
    "\n",
    "trad = {\n",
    "\t\"chien\":\"dog\",\n",
    "\t\"chat\":\"cat\",\n",
    "\t\"souris\":\"mouse\",\n",
    "\t\"oiseau\":\"bird\"\n",
    "}\n",
    "\n",
    "inventaire = {\n",
    "\t\"bananes\":5000,\n",
    "\t\"pommes\":2094,\n",
    "\t\"poires\":412809\n",
    "}\n",
    "\n",
    "dico_3 = {\n",
    "\t\"dict_1\":trad,\n",
    "\t\"dict_2\":inventaire\n",
    "}\n",
    "\n",
    "parametres = {\n",
    "\t\"W1\": np.random.randn(10, 100),\n",
    "    \"b1\": np.random.randn(10, 1),\n",
    "    \"W2\": np.random.randn(10, 10),\n",
    "    \"b2\": np.random.randn(10, 1)\n",
    "}\n",
    "\n",
    "print(trad)\n",
    "print(trad.values())\n",
    "print(trad.keys())\n",
    "\n",
    "print()\n",
    "\n",
    "print(inventaire)\n",
    "inventaire[\"abricots\"]=1234\n",
    "print(inventaire)\n",
    "\n",
    "print(inventaire.get(\"peches\", -1), inventaire.get(\"pommes\", -1))"
   ]
  },
  {
   "cell_type": "code",
   "execution_count": null,
   "id": "698d73ec",
   "metadata": {},
   "outputs": [],
   "source": [
    "ville_l = ('Paris', 'Londres', 'Bruxelles')\n",
    "ville_d =dict.fromkeys(ville_l, 'data')\n",
    "print(ville_d)"
   ]
  },
  {
   "cell_type": "code",
   "execution_count": null,
   "id": "86413aec",
   "metadata": {},
   "outputs": [],
   "source": [
    "print(inventaire)\n",
    "fruit = inventaire.pop(\"pommes\")\n",
    "print(inventaire)\n"
   ]
  },
  {
   "cell_type": "code",
   "execution_count": null,
   "id": "6559a480",
   "metadata": {},
   "outputs": [],
   "source": [
    "for i in inventaire :\n",
    "\tprint(i, sep='\\t', end=\" \")\n",
    "\n",
    "print()\n",
    "\n",
    "for i in inventaire.values() :\n",
    "\tprint(i, sep='\\t', end=\" \")\n",
    "\n",
    "print()\n",
    "\n",
    "for i, j in inventaire.items() :\n",
    "\tprint(i, j, sep=' -> ')\n"
   ]
  },
  {
   "cell_type": "code",
   "execution_count": null,
   "id": "a67c67e0",
   "metadata": {},
   "outputs": [
    {
     "data": {
      "text/plain": [
       "{'positif': [0, 1, 2.2], 'negatif': [-2, -1, -3.3]}"
      ]
     },
     "execution_count": 39,
     "metadata": {},
     "output_type": "execute_result"
    }
   ],
   "source": [
    "# exo\n",
    "\n",
    "classeur_1 = {\n",
    "\t'positif':[],\n",
    "\t'negatif':[]\n",
    "}\n",
    "\n",
    "def classeurAdd(classeur, nombre):\n",
    "\n",
    "\tif isinstance(nombre, bool):\n",
    "\t\treturn\n",
    "\n",
    "\tif isinstance(nombre, (int, float)):\n",
    "\t\tif nombre >= 0 :\n",
    "\t\t\tclasseur['positif'].append(nombre)\n",
    "\t\telse :\n",
    "\t\t\tclasseur['negatif'].append(nombre)\n",
    "\n",
    "\n",
    "classeurAdd(classeur_1, -2)\n",
    "classeurAdd(classeur_1, -1)\n",
    "classeurAdd(classeur_1, 0)\n",
    "classeurAdd(classeur_1, 1)\n",
    "classeurAdd(classeur_1, 2.2)\n",
    "classeurAdd(classeur_1, -3.3)\n",
    "classeurAdd(classeur_1, 'nombre')\n",
    "classeurAdd(classeur_1, False)\n",
    "\n",
    "classeur_1"
   ]
  }
 ],
 "metadata": {
  "kernelspec": {
   "display_name": "python42",
   "language": "python",
   "name": "python3"
  },
  "language_info": {
   "codemirror_mode": {
    "name": "ipython",
    "version": 3
   },
   "file_extension": ".py",
   "mimetype": "text/x-python",
   "name": "python",
   "nbconvert_exporter": "python",
   "pygments_lexer": "ipython3",
   "version": "3.10.18"
  }
 },
 "nbformat": 4,
 "nbformat_minor": 5
}
