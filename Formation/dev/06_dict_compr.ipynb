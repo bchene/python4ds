{
 "cells": [
  {
   "cell_type": "code",
   "execution_count": null,
   "id": "2eaa8e30",
   "metadata": {},
   "outputs": [],
   "source": [
    "import time"
   ]
  },
  {
   "cell_type": "markdown",
   "id": "17c5cd2f",
   "metadata": {},
   "source": [
    "#### List Comprhention"
   ]
  },
  {
   "cell_type": "code",
   "execution_count": null,
   "id": "b061329f",
   "metadata": {},
   "outputs": [],
   "source": [
    "start = time.time()\n",
    "\n",
    "liste_1 = []\n",
    "for i in range(100000) :\n",
    "\tliste_1.append(i**2)\n",
    "\n",
    "end = time.time()\n",
    "print(end-start)\n",
    "print(liste_1)"
   ]
  },
  {
   "cell_type": "code",
   "execution_count": null,
   "id": "a31bd51f",
   "metadata": {},
   "outputs": [],
   "source": [
    "start = time.time()\n",
    "\n",
    "liste_2 = [i**2 for i in range(100000)]\n",
    "\n",
    "end = time.time()\n",
    "print(end-start)\n",
    "print(liste_2)"
   ]
  },
  {
   "cell_type": "code",
   "execution_count": null,
   "id": "2884e96e",
   "metadata": {},
   "outputs": [],
   "source": [
    "#Nested List\n",
    "\n",
    "list_3 = [[i+(j*3) for i in range(3)] for j in range(5)]\n",
    "print(list_3)"
   ]
  },
  {
   "cell_type": "markdown",
   "id": "32ba0290",
   "metadata": {},
   "source": [
    "#### Dict Comprhention"
   ]
  },
  {
   "cell_type": "code",
   "execution_count": null,
   "id": "d5f7003e",
   "metadata": {},
   "outputs": [],
   "source": [
    "dico_prenom1 = {\n",
    "\t0:'Pierre',\n",
    "\t1:'Jean',\n",
    "\t2:'Julie',\n",
    "\t3:'Sophie'    \n",
    "}\n",
    "print(dico_prenom1)\n",
    "\n",
    "prenom = ('Pierre', 'Jean', 'Julie', 'Sophie')\n",
    "dico_prenom2 = { k:v for k, v in enumerate(prenom) }\n",
    "print(dico_prenom2)\n",
    "\n",
    "age = (12,34,62,42)\n",
    "dico_prenom3= {prenom:age for prenom, age in zip(prenom, age)}\n",
    "print(dico_prenom3)\n",
    "\n",
    "dico_prenom4= {prenom:age for prenom, age in zip(prenom, age) if age>18}\n",
    "print(dico_prenom4)"
   ]
  },
  {
   "cell_type": "markdown",
   "id": "3e17c076",
   "metadata": {},
   "source": [
    "#### Tupple Comprhention"
   ]
  },
  {
   "cell_type": "code",
   "execution_count": 78,
   "id": "ef5d7e2a",
   "metadata": {},
   "outputs": [
    {
     "data": {
      "text/plain": [
       "(0, 1, 4, 9, 16, 25, 36, 49, 64, 81)"
      ]
     },
     "execution_count": 78,
     "metadata": {},
     "output_type": "execute_result"
    }
   ],
   "source": [
    "tuple_1 = tuple((i**2 for i in range (10)))\n",
    "tuple_1"
   ]
  },
  {
   "cell_type": "markdown",
   "id": "ece3d4dc",
   "metadata": {},
   "source": [
    "#### exo"
   ]
  },
  {
   "cell_type": "code",
   "execution_count": 80,
   "id": "a447f574",
   "metadata": {},
   "outputs": [
    {
     "name": "stdout",
     "output_type": "stream",
     "text": [
      "{0: 0, 1: 1, 2: 4, 3: 9, 4: 16, 5: 25, 6: 36, 7: 49, 8: 64, 9: 81, 10: 100, 11: 121, 12: 144, 13: 169, 14: 196, 15: 225, 16: 256, 17: 289, 18: 324, 19: 361}\n"
     ]
    }
   ],
   "source": [
    "exo = { k:k**2 for k in range(20)}\n",
    "print(exo)"
   ]
  }
 ],
 "metadata": {
  "kernelspec": {
   "display_name": "python42",
   "language": "python",
   "name": "python3"
  },
  "language_info": {
   "codemirror_mode": {
    "name": "ipython",
    "version": 3
   },
   "file_extension": ".py",
   "mimetype": "text/x-python",
   "name": "python",
   "nbconvert_exporter": "python",
   "pygments_lexer": "ipython3",
   "version": "3.10.18"
  }
 },
 "nbformat": 4,
 "nbformat_minor": 5
}
