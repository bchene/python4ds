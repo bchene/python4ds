{
 "cells": [
  {
   "cell_type": "markdown",
   "id": "17c5cd2f",
   "metadata": {},
   "source": [
    "#### POO"
   ]
  },
  {
   "cell_type": "code",
   "execution_count": null,
   "id": "b061329f",
   "metadata": {},
   "outputs": [
    {
     "data": {
      "text/plain": [
       "3"
      ]
     },
     "execution_count": 1,
     "metadata": {},
     "output_type": "execute_result"
    }
   ],
   "source": [
    "import numpy as np\n",
    "# https://numpy.org/doc/2.1/reference/generated/numpy.ndarray.html\n",
    "\n",
    "tab = np.array([1,2,3])\n",
    "tab.size"
   ]
  },
  {
   "cell_type": "code",
   "execution_count": 5,
   "id": "fa4f0390",
   "metadata": {},
   "outputs": [
    {
     "ename": "ValueError",
     "evalue": "invalid literal for int() with base 10: '7.7'",
     "output_type": "error",
     "traceback": [
      "\u001b[0;31m---------------------------------------------------------------------------\u001b[0m",
      "\u001b[0;31mValueError\u001b[0m                                Traceback (most recent call last)",
      "Cell \u001b[0;32mIn[5], line 1\u001b[0m\n\u001b[0;32m----> 1\u001b[0m x \u001b[38;5;241m=\u001b[39m \u001b[38;5;28;43mint\u001b[39;49m\u001b[43m(\u001b[49m\u001b[38;5;28;43minput\u001b[39;49m\u001b[43m(\u001b[49m\u001b[38;5;124;43m\"\u001b[39;49m\u001b[38;5;124;43mEntrez un nombre\u001b[39;49m\u001b[38;5;124;43m\"\u001b[39;49m\u001b[43m)\u001b[49m\u001b[43m)\u001b[49m\n\u001b[1;32m      2\u001b[0m x \u001b[38;5;241m=\u001b[39m x \u001b[38;5;241m+\u001b[39m \u001b[38;5;241m3\u001b[39m\n\u001b[1;32m      3\u001b[0m x \u001b[38;5;241m=\u001b[39m x \u001b[38;5;241m*\u001b[39m x\n",
      "\u001b[0;31mValueError\u001b[0m: invalid literal for int() with base 10: '7.7'"
     ]
    }
   ],
   "source": [
    "x = int(input(\"Entrez un nombre\"))\n",
    "x = x + 3\n",
    "x = x * x\n",
    "x = x - 10\n",
    "print(\"Le résultat est :\", x)\n"
   ]
  }
 ],
 "metadata": {
  "kernelspec": {
   "display_name": "python42",
   "language": "python",
   "name": "python3"
  },
  "language_info": {
   "codemirror_mode": {
    "name": "ipython",
    "version": 3
   },
   "file_extension": ".py",
   "mimetype": "text/x-python",
   "name": "python",
   "nbconvert_exporter": "python",
   "pygments_lexer": "ipython3",
   "version": "3.10.18"
  }
 },
 "nbformat": 4,
 "nbformat_minor": 5
}
