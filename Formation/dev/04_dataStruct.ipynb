{
 "cells": [
  {
   "cell_type": "code",
   "execution_count": null,
   "id": "b061329f",
   "metadata": {},
   "outputs": [],
   "source": [
    "# LISTE\n",
    "liste_1 = [1, 4, 2, 7, 33, 234]\n",
    "liste_2 = ['Paris', 'Berlin', 'Rome']\n",
    "liste_3 = [liste_1, liste_2]\n",
    "\n",
    "liste_4 = []\n",
    "nb = 0\n",
    "while (nb < 20) :\n",
    "\tliste_4.append(nb)\n",
    "\tnb += 1\n"
   ]
  },
  {
   "cell_type": "code",
   "execution_count": null,
   "id": "368daa4f",
   "metadata": {},
   "outputs": [],
   "source": [
    "# TUPLE = liste non modifiable\n",
    "tuple_1 = (1, 4, 2, 7, 33, 234)"
   ]
  },
  {
   "cell_type": "code",
   "execution_count": null,
   "id": "65610f37",
   "metadata": {},
   "outputs": [],
   "source": [
    "# STRING\n",
    "str = 'Benjamin'"
   ]
  },
  {
   "cell_type": "code",
   "execution_count": null,
   "id": "28365b6f",
   "metadata": {},
   "outputs": [],
   "source": [
    "# INDEXING\n",
    "print(liste_1[0], liste_2[1], liste_1[-1], liste_3[0][-2])"
   ]
  },
  {
   "cell_type": "code",
   "execution_count": null,
   "id": "b2bd10e0",
   "metadata": {},
   "outputs": [],
   "source": [
    "# SLICING\n",
    "print(liste_4[:3], liste_4[5:7], liste_4[17:], liste_4[5:10:3], liste_4[19:10:-1])\n",
    "print(str[:3], str[5:7], str[5:], str[0:8:2], str[::-1])"
   ]
  },
  {
   "cell_type": "code",
   "execution_count": null,
   "id": "c309facb",
   "metadata": {},
   "outputs": [],
   "source": [
    "# methode des liste\n",
    "liste_2.append(\"Tokyo\")\n",
    "liste_2.insert(2, \"Amsterdam\")\n",
    "liste_2.extend(['Londre', 'Dublin'])\n",
    "print(liste_2)\n",
    "liste_2.sort()\n",
    "print(liste_2)\n",
    "# a completer ... pop clear count ...\n"
   ]
  },
  {
   "cell_type": "code",
   "execution_count": null,
   "id": "654ad6ff",
   "metadata": {},
   "outputs": [],
   "source": [
    "# liste dans boucles\n",
    "\n",
    "for i in liste_2 : \n",
    "\tprint (i, end=\" \")\n",
    "print(\"\\n\")\n",
    "\n",
    "for index,valeur in enumerate(liste_2) :\n",
    "\tprint (index,valeur, '/', end=\" \")\n",
    "print(\"\\n\")\n",
    "\n",
    "for a,b in zip(liste_1, liste_2):\n",
    "\tprint (a,b, '/', end=\" \")"
   ]
  },
  {
   "cell_type": "code",
   "execution_count": null,
   "id": "0cf66b5c",
   "metadata": {},
   "outputs": [
    {
     "name": "stdout",
     "output_type": "stream",
     "text": [
      "3.10.18 (main, Jun  5 2025, 08:13:51) [Clang 14.0.6 ]\n"
     ]
    }
   ],
   "source": [
    "#bonne pratiques pour le typage\n",
    "\n",
    "# Importer le type \"List\" (avec une majuscule)\n",
    "import sys\n",
    "from typing import List\n",
    "# Utiliser List[str] au lieu de list[str]\n",
    "ma_liste: List[str] = [\"a\", \"b\"]\n",
    "\n",
    "#new\n",
    "ma_liste2: list[str] = [\"a\", \"b\"]\n",
    "mon_dict: dict[str, int] = {\"c\": 1}\n",
    "\n",
    "print(sys.version)\n",
    "\n",
    "# Une fonction qui prend une liste pouvant contenir des entiers ou des strings,\n",
    "# et qui retourne soit un int, soit rien (None).\n",
    "def ma_fonction(data: list[int | str]) -> int | None:\n",
    "    # ... votre code ...\n",
    "    if len(data) > 0:\n",
    "        return 1\n",
    "    else:\n",
    "        return None\n"
   ]
  }
 ],
 "metadata": {
  "kernelspec": {
   "display_name": "python42",
   "language": "python",
   "name": "python3"
  },
  "language_info": {
   "codemirror_mode": {
    "name": "ipython",
    "version": 3
   },
   "file_extension": ".py",
   "mimetype": "text/x-python",
   "name": "python",
   "nbconvert_exporter": "python",
   "pygments_lexer": "ipython3",
   "version": "3.10.18"
  }
 },
 "nbformat": 4,
 "nbformat_minor": 5
}
