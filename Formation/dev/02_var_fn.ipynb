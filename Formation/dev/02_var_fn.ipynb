{
 "cells": [
  {
   "cell_type": "code",
   "execution_count": null,
   "id": "b061329f",
   "metadata": {},
   "outputs": [],
   "source": [
    "# VARIABLES\n",
    "x = 2\n",
    "y = 3\n",
    "z, w = 4, 5.55\n",
    "#arithmetique = - * /\n",
    "print(x ** y) #puissance\n",
    "#comparaison booleen < > <= >= != ==\n",
    "print (z != w)\n",
    "#operateurs logique\n",
    "print(False & True)\n",
    "print(False | True)\n",
    "print(False ^ True) #XOR\n",
    "#String\n",
    "prenom = \"ben  1\"\n",
    "nom = 'test   2'\n",
    "easy = True"
   ]
  },
  {
   "cell_type": "code",
   "execution_count": 33,
   "id": "dba2a617",
   "metadata": {},
   "outputs": [
    {
     "name": "stdout",
     "output_type": "stream",
     "text": [
      "512\n",
      "490.5 Joules\n",
      "150 Joules\n"
     ]
    }
   ],
   "source": [
    "# FONCTION\n",
    "cubic = lambda x: x*x*x\n",
    "print(cubic(8))\n",
    "\n",
    "def e_potentiel(masse, hauteur, g=9.81):\n",
    "   E = masse * hauteur * g\n",
    "   print(E, 'Joules')\n",
    "\n",
    "e_potentiel(10, 5)\n",
    "e_potentiel(10, 5, g=3)\n"
   ]
  }
 ],
 "metadata": {
  "kernelspec": {
   "display_name": "formaPy",
   "language": "python",
   "name": "python3"
  },
  "language_info": {
   "codemirror_mode": {
    "name": "ipython",
    "version": 3
   },
   "file_extension": ".py",
   "mimetype": "text/x-python",
   "name": "python",
   "nbconvert_exporter": "python",
   "pygments_lexer": "ipython3",
   "version": "3.13.5"
  }
 },
 "nbformat": 4,
 "nbformat_minor": 5
}
